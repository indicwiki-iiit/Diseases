{
 "cells": [
  {
   "cell_type": "code",
   "execution_count": null,
   "metadata": {},
   "outputs": [],
   "source": [
    "# INITIAL DATA CLEANING AND ENLISTING\n",
    "import pandas as pd\n",
    "import pickle\n",
    "from pandas.io.html import read_html\n",
    "pd.set_option('display.max_columns', None)\n",
    "\n",
    "# INCORPORATING DATASET FILE\n",
    "# file = open('./disease_cleaned.csv', 'rb')\n",
    "# df = pd.read_csv(file, encoding='Windows-1252')\n",
    "\n",
    "editfile = open('./infobox.csv', 'rb')\n",
    "editfile2 = open('./infoboxImg.csv', 'wb')\n",
    "de = pd.read_csv(editfile, encoding='Windows-1252')"
   ]
  },
  {
   "cell_type": "code",
   "execution_count": null,
   "metadata": {},
   "outputs": [],
   "source": [
    "# LOAD required names\n",
    "file_name = \"infoindex.pkl\"\n",
    "\n",
    "open_file = open(file_name, \"rb\")\n",
    "available = pickle.load(open_file)\n",
    "open_file.close()\n",
    "\n",
    "file_name = \"infocontent.pkl\"\n",
    "open_file = open(file_name, \"rb\")\n",
    "nocontent = pickle.load(open_file)\n",
    "open_file.close()\n",
    "\n",
    "len(available)"
   ]
  },
  {
   "cell_type": "code",
   "execution_count": null,
   "metadata": {},
   "outputs": [],
   "source": [
    "df.to_csv(editfile, index=False)"
   ]
  },
  {
   "cell_type": "code",
   "execution_count": null,
   "metadata": {},
   "outputs": [],
   "source": [
    "de[\"ImageURL\"] = \"\""
   ]
  },
  {
   "cell_type": "code",
   "execution_count": null,
   "metadata": {},
   "outputs": [],
   "source": [
    "import wikipedia\n",
    "\n",
    "for row in range(1017, 1183):\n",
    "  print(row)\n",
    "\n",
    "  try:\n",
    "      #try to load the wikipedia page\n",
    "    wikipage = wikipedia.page(de.loc[row, \"Name\"])\n",
    "  except wikipedia.exceptions.PageError:\n",
    "      #if a \"PageError\" was raised, ignore it and continue to next link\n",
    "    continue\n",
    "  except wikipedia.exceptions.DisambiguationError:\n",
    "    continue\n",
    "  \n",
    "  # print(\"Page Title: %s\" % wikipage.title)\n",
    "  # print(\"Page URL: %s\" % wikipage.url)\n",
    "  print(\"Nr. of images on page: %d\" % len(wikipage.images))\n",
    "\n",
    "  if len(wikipage.images)==0:\n",
    "    continue\n",
    "\n",
    "  de.loc[row, \"ImageURL\"] = wikipage.images[0]\n",
    "\n",
    "# PAGES = ['New York City', 'Mercury_(planet)', 'Tucana']\n",
    "# PAGES = [df.loc[0, 'Name'], df.loc[1, \"Name\"], \"Migraine\"]\n",
    "# for page in PAGES:\n",
    "#     wikipage = wikipedia.page(page)\n",
    "#     print(\"Page Title: %s\" % wikipage.title)\n",
    "#     # print(\"Page URL: %s\" % wikipage.url)\n",
    "#     print(\"Nr. of images on page: %d\" % len(wikipage.images))\n",
    "#     main = \"\"\n",
    "    \n",
    "\n",
    "#     for img in wikipage.images:\n",
    "#       print(img)\n",
    "#       print(\"***\")\n",
    "#       if \".jpg\" in img or \".JPG\" in img or \".png\" in img or \".PNG\" in img:\n",
    "#         main = img\n",
    "#         break\n",
    "    \n",
    "#     print(\" - Main Image: %s\" % main)\n",
    "#     print(\"\")"
   ]
  },
  {
   "cell_type": "code",
   "execution_count": null,
   "metadata": {},
   "outputs": [],
   "source": [
    "import urllib.request\n",
    "urllib.request.urlretrieve(\"https://upload.wikimedia.org/wikipedia/commons/8/82/Acha.JPG\", \"./images/Esopageal\")"
   ]
  },
  {
   "cell_type": "code",
   "execution_count": null,
   "metadata": {},
   "outputs": [],
   "source": [
    "de.loc[526, \"ImageURL\"]"
   ]
  },
  {
   "cell_type": "code",
   "execution_count": null,
   "metadata": {},
   "outputs": [],
   "source": [
    "de.to_csv(editfile2, index=False)"
   ]
  },
  {
   "cell_type": "code",
   "execution_count": null,
   "metadata": {},
   "outputs": [],
   "source": [
    "de.loc[392, \"ImageURL\"]"
   ]
  },
  {
   "cell_type": "code",
   "execution_count": null,
   "metadata": {},
   "outputs": [],
   "source": [
    "# LOAD required names\n",
    "file_name = \"infoindex.pkl\"\n",
    "\n",
    "open_file = open(file_name, \"rb\")\n",
    "available = pickle.load(open_file)\n",
    "open_file.close()\n",
    "\n",
    "file_name = \"infocontent.pkl\"\n",
    "open_file = open(file_name, \"rb\")\n",
    "nocontent = pickle.load(open_file)\n",
    "open_file.close()\n",
    "\n",
    "len(nocontent)"
   ]
  },
  {
   "cell_type": "code",
   "execution_count": null,
   "metadata": {},
   "outputs": [],
   "source": [
    "nocontent"
   ]
  },
  {
   "cell_type": "code",
   "execution_count": null,
   "metadata": {},
   "outputs": [],
   "source": [
    "avail = 0\n",
    "unavail = 0\n",
    "for row in range(0, 1183):\n",
    "  if row not in nocontent:\n",
    "    if de.loc[row, \"ImageURL\"] == \"\":\n",
    "      unavail+=1\n",
    "    else:\n",
    "      avail+=1"
   ]
  },
  {
   "cell_type": "code",
   "execution_count": null,
   "metadata": {},
   "outputs": [],
   "source": [
    "unavail"
   ]
  },
  {
   "cell_type": "code",
   "execution_count": null,
   "metadata": {},
   "outputs": [],
   "source": [
    "de.loc[1182, \"ImageURL\"]"
   ]
  }
 ],
 "metadata": {
  "interpreter": {
   "hash": "31f2aee4e71d21fbe5cf8b01ff0e069b9275f58929596ceb00d14d90e3e16cd6"
  },
  "kernelspec": {
   "display_name": "Python 3.8.10 64-bit",
   "language": "python",
   "name": "python3"
  },
  "language_info": {
   "codemirror_mode": {
    "name": "ipython",
    "version": 3
   },
   "file_extension": ".py",
   "mimetype": "text/x-python",
   "name": "python",
   "nbconvert_exporter": "python",
   "pygments_lexer": "ipython3",
   "version": "3.8.10"
  },
  "orig_nbformat": 4
 },
 "nbformat": 4,
 "nbformat_minor": 2
}
