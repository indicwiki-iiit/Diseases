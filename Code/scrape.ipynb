{
 "cells": [
  {
   "cell_type": "code",
   "execution_count": null,
   "metadata": {},
   "outputs": [],
   "source": [
    "# INITIAL DATA CLEANING AND ENLISTING\n",
    "import pandas as pd\n",
    "import pickle\n",
    "from pandas.io.html import read_html\n",
    "pd.set_option('display.max_columns', None)\n",
    "\n",
    "# INCORPORATING DATASET FILE\n",
    "file = open('./final files/FinalHindi.csv', 'rb')\n",
    "df = pd.read_csv(file)\n",
    "\n",
    "editfile = open('./HindiNHSlinks.csv', 'wb')"
   ]
  },
  {
   "cell_type": "code",
   "execution_count": null,
   "metadata": {},
   "outputs": [],
   "source": [
    "from nltk.tokenize import word_tokenize\n",
    "import urllib\n",
    "import requests\n",
    "path = urllib.parse.urlsplit(df.loc[1156, \"link\"]).path\n",
    "pp = list(path.split(\"/\"))\n",
    "pp[2]"
   ]
  },
  {
   "cell_type": "code",
   "execution_count": null,
   "metadata": {},
   "outputs": [],
   "source": [
    "df[\"link2\"] = \"\""
   ]
  },
  {
   "cell_type": "code",
   "execution_count": null,
   "metadata": {},
   "outputs": [],
   "source": [
    "cols = df.columns.tolist()\n",
    "cols = cols[:2] + cols[-1:] + cols[2:-1]"
   ]
  },
  {
   "cell_type": "code",
   "execution_count": null,
   "metadata": {},
   "outputs": [],
   "source": [
    "de = df[cols]\n",
    "de.head()"
   ]
  },
  {
   "cell_type": "code",
   "execution_count": null,
   "metadata": {},
   "outputs": [],
   "source": [
    "str = \"https://www.nhs.uk/conditions/\"\n",
    "for row in range(0, 1157):\n",
    "  path = urllib.parse.urlsplit(df.loc[row, \"link\"]).path\n",
    "  pp = list(path.split(\"/\"))\n",
    "  pp[2]\n",
    "  search = str + pp[2]\n",
    "  #print(search)\n",
    "  try:\n",
    "    result = requests.get(search, timeout=10)\n",
    "  except requests.exceptions.Timeout:\n",
    "    print(\"Timeout occurred\")\n",
    "  if(result.status_code==200):\n",
    "    print(\"wow \", row)\n",
    "    de.loc[row, \"link2\"] = search"
   ]
  },
  {
   "cell_type": "code",
   "execution_count": null,
   "metadata": {},
   "outputs": [],
   "source": [
    "de.head()"
   ]
  },
  {
   "cell_type": "code",
   "execution_count": null,
   "metadata": {},
   "outputs": [],
   "source": [
    "de.to_csv(editfile, index=False)"
   ]
  },
  {
   "cell_type": "code",
   "execution_count": null,
   "metadata": {},
   "outputs": [],
   "source": [
    "import sweetviz as sv\n",
    "analyze_report = sv.analyze(de)\n",
    "analyze_report.show_html('FinalDatasetReport.html', open_browser=True)"
   ]
  },
  {
   "cell_type": "code",
   "execution_count": null,
   "metadata": {},
   "outputs": [],
   "source": [
    "import IPython\n",
    "IPython.display.HTML('analyze.html')"
   ]
  }
 ],
 "metadata": {
  "interpreter": {
   "hash": "31f2aee4e71d21fbe5cf8b01ff0e069b9275f58929596ceb00d14d90e3e16cd6"
  },
  "kernelspec": {
   "display_name": "Python 3.8.10 64-bit",
   "language": "python",
   "name": "python3"
  },
  "language_info": {
   "codemirror_mode": {
    "name": "ipython",
    "version": 3
   },
   "file_extension": ".py",
   "mimetype": "text/x-python",
   "name": "python",
   "nbconvert_exporter": "python",
   "pygments_lexer": "ipython3",
   "version": "3.8.10"
  },
  "orig_nbformat": 4
 },
 "nbformat": 4,
 "nbformat_minor": 2
}
