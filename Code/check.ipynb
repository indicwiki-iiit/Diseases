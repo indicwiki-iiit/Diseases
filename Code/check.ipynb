{
 "cells": [
  {
   "cell_type": "code",
   "execution_count": null,
   "metadata": {},
   "outputs": [],
   "source": [
    "# INITIAL DATA CLEANING AND ENLISTING\n",
    "import pandas as pd\n",
    "pd.set_option('display.max_columns', None)\n",
    "\n",
    "# INCORPORATING DATASET FILE\n",
    "file = open('./disease_cleaned.csv', 'rb')\n",
    "df = pd.read_csv(file, encoding='Windows-1252')"
   ]
  },
  {
   "cell_type": "code",
   "execution_count": null,
   "metadata": {},
   "outputs": [],
   "source": [
    "df['Name'].count"
   ]
  },
  {
   "cell_type": "code",
   "execution_count": null,
   "metadata": {},
   "outputs": [],
   "source": [
    "attributes = [\"Overview\", \"Symptoms\", \"Causes\", \"Risk factors\", \"Diagnosis\", \"Treatment\", \"Remedies\", \"Medication\", \"info-symptoms\", \"info-medication\", \"info-causes\"\n",
    "]\n",
    "maxx = 0\n",
    "badrows = []\n",
    "for row in range(0, 1176):\n",
    "  max = 0\n",
    "  bad = 0\n",
    "  for chosen in attributes:\n",
    "    if pd.isna(df.loc[row, chosen]) or df.loc[row, chosen]==\"\":\n",
    "      continue\n",
    "    max+=1\n",
    "    bad = 1\n",
    "  if flag==1:\n",
    "    print(row)\n",
    "  if bad==0:\n",
    "    badrows.append(row)\n",
    "  if max>maxx:\n",
    "    maxx = max\n",
    "    flag = row\n",
    "print(flag)\n",
    "print(maxx)\n",
    "print(len(badrows))"
   ]
  },
  {
   "cell_type": "code",
   "execution_count": null,
   "metadata": {},
   "outputs": [],
   "source": [
    "df.loc[526, \"Risk factors\"]"
   ]
  },
  {
   "cell_type": "code",
   "execution_count": null,
   "metadata": {},
   "outputs": [],
   "source": [
    "df.loc[[207]]"
   ]
  },
  {
   "cell_type": "code",
   "execution_count": null,
   "metadata": {},
   "outputs": [],
   "source": [
    "dict = {}\n",
    "attr = {}\n",
    "attributes = [\"Overview\", \"Symptoms\", \"Causes\", \"Risk factors\", \"Diagnosis\", \"Treatment\", \"Remedies\", \"Medication\", \"info-symptoms\", \"info-medication\", \"info-causes\"\n",
    "]\n",
    "nocontent = []\n",
    "for row in range(0, 1183):\n",
    "  val = 0\n",
    "  for chosen in attributes:\n",
    "    if pd.isna(df.loc[row, chosen]) or df.loc[row, chosen]==\"\":\n",
    "      continue\n",
    "\n",
    "    if chosen in attr:\n",
    "      attr[chosen] += 1\n",
    "    else:\n",
    "      attr[chosen] = 1\n",
    "\n",
    "    val+=1\n",
    "  if val in dict:\n",
    "    dict[val] +=1 \n",
    "  else:\n",
    "    dict[val] = 1\n",
    "  if val == 0:\n",
    "    nocontent.append(row)\n",
    "print(dict)\n",
    "print(attr)\n",
    "print(len(df))"
   ]
  },
  {
   "cell_type": "code",
   "execution_count": null,
   "metadata": {},
   "outputs": [],
   "source": [
    "import pickle\n",
    "\n",
    "file_name = \"infocontent.pkl\"\n",
    "\n",
    "open_file = open(file_name, \"wb\")\n",
    "pickle.dump(nocontent, open_file)\n",
    "open_file.close()"
   ]
  },
  {
   "cell_type": "code",
   "execution_count": null,
   "metadata": {},
   "outputs": [],
   "source": [
    "import pickle\n",
    "open_file = open(file_name, \"rb\")\n",
    "loaded_list = pickle.load(open_file)\n",
    "open_file.close()"
   ]
  },
  {
   "cell_type": "code",
   "execution_count": null,
   "metadata": {},
   "outputs": [],
   "source": [
    "loaded_list"
   ]
  },
  {
   "cell_type": "code",
   "execution_count": null,
   "metadata": {},
   "outputs": [],
   "source": [
    "file = open('./infobox.csv', 'rb')\n",
    "dinfo = pd.read_csv(file, encoding='Windows-1252')"
   ]
  },
  {
   "cell_type": "code",
   "execution_count": null,
   "metadata": {},
   "outputs": [],
   "source": [
    "dinfo.loc[[3]]"
   ]
  },
  {
   "cell_type": "code",
   "execution_count": null,
   "metadata": {},
   "outputs": [],
   "source": [
    "dict = {}\n",
    "attr = {}\n",
    "infoattr = [\"Specialty\", \"Symptoms\", \"Risk factors\", \"Treatment\", \"Prognosis\", \"Frequency\", \"Causes\", \"Prevention\", \"Duration\", \"Usual onset\", \"Diagnostic method\", \"Medication\"]\n",
    "nocontent = []\n",
    "for row in range(0, 1183):\n",
    "  val = 0\n",
    "  for chosen in infoattr:\n",
    "    if pd.isna(dinfo.loc[row, chosen]) or dinfo.loc[row, chosen]==\"\":\n",
    "      continue\n",
    "\n",
    "    if chosen in attr:\n",
    "      attr[chosen] += 1\n",
    "    else:\n",
    "      attr[chosen] = 1\n",
    "\n",
    "    val+=1\n",
    "  if val in dict:\n",
    "    dict[val] +=1 \n",
    "  else:\n",
    "    dict[val] = 1\n",
    "  if val > 0:\n",
    "    nocontent.append(row)\n",
    "print(dict)\n",
    "print(attr)\n",
    "print(len(nocontent))\n",
    "nocontent"
   ]
  },
  {
   "cell_type": "code",
   "execution_count": null,
   "metadata": {},
   "outputs": [],
   "source": [
    "infotr = [\"Duration\", \"Usual onset\", \"Diagnostic method\", \"Medication\"]\n",
    "for chosen in infotr:\n",
    "  print(chosen)\n",
    "  print(dinfo.loc[526, chosen])\n",
    "  print(\"***\")"
   ]
  }
 ],
 "metadata": {
  "interpreter": {
   "hash": "31f2aee4e71d21fbe5cf8b01ff0e069b9275f58929596ceb00d14d90e3e16cd6"
  },
  "kernelspec": {
   "display_name": "Python 3.8.10 64-bit",
   "language": "python",
   "name": "python3"
  },
  "language_info": {
   "codemirror_mode": {
    "name": "ipython",
    "version": 3
   },
   "file_extension": ".py",
   "mimetype": "text/x-python",
   "name": "python",
   "nbconvert_exporter": "python",
   "pygments_lexer": "ipython3",
   "version": "3.8.10"
  },
  "orig_nbformat": 4
 },
 "nbformat": 4,
 "nbformat_minor": 2
}
