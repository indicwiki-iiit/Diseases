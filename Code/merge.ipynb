{
 "cells": [
  {
   "cell_type": "code",
   "execution_count": null,
   "metadata": {},
   "outputs": [],
   "source": [
    "# INITIAL DATA CLEANING AND ENLISTING\n",
    "import pandas as pd\n",
    "pd.set_option('display.max_columns', None)\n",
    "\n",
    "# INCORPORATING DATASET FILE\n",
    "file = open('./disease_cleaned_hindi.csv', 'rb')\n",
    "de = pd.read_csv(file)#, encoding='Windows-1252')"
   ]
  },
  {
   "cell_type": "code",
   "execution_count": null,
   "metadata": {},
   "outputs": [],
   "source": [
    "file2 = open('./trymergeHindi.csv', 'rb')\n",
    "# file2 = open('./infoboxImgHindi2.csv', 'rb')\n",
    "di = pd.read_csv(file2)#, encoding='Windows-1252')"
   ]
  },
  {
   "cell_type": "code",
   "execution_count": null,
   "metadata": {},
   "outputs": [],
   "source": [
    "de.shape"
   ]
  },
  {
   "cell_type": "code",
   "execution_count": null,
   "metadata": {},
   "outputs": [],
   "source": [
    "checkfile = open('./trymergeHindi.csv', 'wb')"
   ]
  },
  {
   "cell_type": "code",
   "execution_count": null,
   "metadata": {},
   "outputs": [],
   "source": [
    "de.head()"
   ]
  },
  {
   "cell_type": "code",
   "execution_count": null,
   "metadata": {},
   "outputs": [],
   "source": [
    "del de[\"info-medication\"]\n",
    "del de[\"info-symptoms\"]\n",
    "del de[\"info-causes\"]"
   ]
  },
  {
   "cell_type": "code",
   "execution_count": null,
   "metadata": {},
   "outputs": [],
   "source": [
    "di.columns = [\"Name\", \"info-Specialty\", \"info-Symptoms\", \"info-Usual onset\", \"info-Duration\", \"info-Causes\", \"info-Risk factors\", \"info-Diagnostic method\", \"info-Prevention\", \"info-Treatment\", \"info-Prognosis\", \"info-Frequency\", \"info-Medication\", \"ImageURL\"]"
   ]
  },
  {
   "cell_type": "code",
   "execution_count": null,
   "metadata": {},
   "outputs": [],
   "source": [
    "attrs = [\"info-Specialty\", \"info-Symptoms\", \"info-Usual onset\", \"info-Duration\", \"info-Causes\", \"info-Risk factors\", \"info-Diagnostic method\", \"info-Prevention\", \"info-Treatment\", \"info-Prognosis\", \"info-Frequency\", \"info-Medication\", \"ImageURL\"]"
   ]
  },
  {
   "cell_type": "code",
   "execution_count": null,
   "metadata": {},
   "outputs": [],
   "source": [
    "for attribute in attrs:\n",
    "  de[attribute] = di[attribute]"
   ]
  },
  {
   "cell_type": "code",
   "execution_count": null,
   "metadata": {},
   "outputs": [],
   "source": [
    "di.to_csv(checkfile, index=False)"
   ]
  },
  {
   "cell_type": "code",
   "execution_count": null,
   "metadata": {},
   "outputs": [],
   "source": [
    "import pickle\n",
    "open_file = open('./infocontent.pkl', \"rb\")\n",
    "loaded_list = pickle.load(open_file)\n",
    "open_file.close()"
   ]
  },
  {
   "cell_type": "code",
   "execution_count": null,
   "metadata": {},
   "outputs": [],
   "source": [
    "#for row in loaded_list:\n",
    "di.drop(368, axis=0, inplace=True)\n",
    "#de.index = range(len(de))"
   ]
  },
  {
   "cell_type": "code",
   "execution_count": null,
   "metadata": {},
   "outputs": [],
   "source": [
    "de.shape"
   ]
  },
  {
   "cell_type": "code",
   "execution_count": null,
   "metadata": {},
   "outputs": [],
   "source": [
    "for idx in range(0, 1158):\n",
    "  if pd.isna(di.loc[idx, \"Name\"]):\n",
    "    print(idx)"
   ]
  },
  {
   "cell_type": "code",
   "execution_count": null,
   "metadata": {},
   "outputs": [],
   "source": [
    "cols = []\n",
    "for col in di.columns:\n",
    "  cols.append(col)\n",
    "len(cols)"
   ]
  },
  {
   "cell_type": "code",
   "execution_count": null,
   "metadata": {},
   "outputs": [],
   "source": [
    "cols.remove(\"link\")\n",
    "cols.remove(\"ImageURL\")"
   ]
  },
  {
   "cell_type": "code",
   "execution_count": null,
   "metadata": {},
   "outputs": [],
   "source": [
    "file2 = open('./trymergeHindi.csv', 'rb')\n",
    "# file2 = open('./infoboxImgHindi2.csv', 'rb')\n",
    "di = pd.read_csv(file2)#, encoding='Windows-1252')\n",
    "import re\n",
    "from nltk.tokenize import word_tokenize\n",
    "dhe = {}\n",
    "for attr in cols:\n",
    "  dhe[attr] = 0\n",
    "idxd = {}\n",
    "for idx in range(0, 1157):\n",
    "  #print(idx)\n",
    "  possible = []\n",
    "  for attribute in cols:\n",
    "    english = 0\n",
    "    value = di.loc[idx, attribute]\n",
    "\n",
    "    if pd.isna(value):\n",
    "      continue\n",
    "      \n",
    "    if value == \"\":\n",
    "      continue\n",
    "\n",
    "    # print(idx, attribute)\n",
    "      \n",
    "    #translated_value = GoogleTranslator(source=\"en\", target=\"hi\").translate(value)\n",
    "    #print(de.loc[526, \"Medication\"])\n",
    "\n",
    "    reg = re.compile(r'[a-zA-Z]')\n",
    "    words = word_tokenize(value)\n",
    "    for word in words:\n",
    "      if reg.match(word) and (english==0):\n",
    "        #print(word)\n",
    "        dhe[attribute]+=1\n",
    "        possible.append(attribute)\n",
    "        possible.append(word)\n",
    "        #english = 1\n",
    "        #break\n",
    "  if possible:\n",
    "    idxd[idx] = possible\n",
    "    \n",
    "    #print(translated_value)\n",
    "\n",
    "    # dh.loc[idx, attribute] = translated_value"
   ]
  },
  {
   "cell_type": "code",
   "execution_count": null,
   "metadata": {},
   "outputs": [],
   "source": [
    "idxd"
   ]
  },
  {
   "cell_type": "code",
   "execution_count": null,
   "metadata": {},
   "outputs": [],
   "source": [
    "di.columns"
   ]
  }
 ],
 "metadata": {
  "interpreter": {
   "hash": "31f2aee4e71d21fbe5cf8b01ff0e069b9275f58929596ceb00d14d90e3e16cd6"
  },
  "kernelspec": {
   "display_name": "Python 3.8.10 64-bit",
   "language": "python",
   "name": "python3"
  },
  "language_info": {
   "codemirror_mode": {
    "name": "ipython",
    "version": 3
   },
   "file_extension": ".py",
   "mimetype": "text/x-python",
   "name": "python",
   "nbconvert_exporter": "python",
   "pygments_lexer": "ipython3",
   "version": "3.8.10"
  },
  "orig_nbformat": 4
 },
 "nbformat": 4,
 "nbformat_minor": 2
}
