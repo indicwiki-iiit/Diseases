{
 "cells": [
  {
   "cell_type": "code",
   "execution_count": null,
   "metadata": {},
   "outputs": [],
   "source": [
    "# INITIAL DATA CLEANING AND ENLISTING\n",
    "import pandas as pd\n",
    "import pickle\n",
    "from pandas.io.html import read_html\n",
    "pd.set_option('display.max_columns', None)\n",
    "\n",
    "# INCORPORATING DATASET FILE\n",
    "efile = open('./disease_cleaned.csv', 'rb')\n",
    "de = pd.read_csv(efile, encoding='Windows-1252')\n",
    "\n",
    "hfile = open('./disease_cleaned_hindi.csv', 'rb')\n",
    "dh = pd.read_csv(hfile)#, encoding='Windows-1252')"
   ]
  },
  {
   "cell_type": "code",
   "execution_count": null,
   "metadata": {},
   "outputs": [],
   "source": [
    "oldattrs = [\"Name\",\"Symptoms\",\"Overview\",\"Causes\",\"Risk factors\",\"Diagnosis\",\"Treatment\",\"Remedies\",\"Medication\", \"info-symptoms\", \"info-causes\", \"info-medication\"]\n",
    "#oldattrs = [\"Name\"]\n",
    "# for attr in oldattrs:\n",
    "#   df = df.drop(attr, 1)\n",
    "# df"
   ]
  },
  {
   "cell_type": "code",
   "execution_count": null,
   "metadata": {},
   "outputs": [],
   "source": [
    "infoattr = [\"Specialty\", \"Symptoms\", \"Risk factors\", \"Treatment\", \"Prognosis\", \"Frequency\", \"Causes\", \"Prevention\", \"Duration\", \"Usual onset\", \"Diagnostic method\", \"Medication\"]\n",
    "\n",
    "dictinfo = {}\n",
    "for item in infoattr:\n",
    "  dictinfo[item] = 0\n",
    "\n",
    "dictinfo"
   ]
  },
  {
   "cell_type": "code",
   "execution_count": null,
   "metadata": {},
   "outputs": [],
   "source": [
    "for row in range(1179, 1183):\n",
    "  print(row)\n",
    "  if row not in nocontent and row in available:\n",
    "    page = 'https://en.wikipedia.org/wiki/' + df.loc[row, 'Name'].replace(' ', '_')\n",
    "    infoboxes = read_html(page, index_col=0, attrs={\"class\":\"infobox\"})\n",
    "\n",
    "    di = infoboxes[0]\n",
    "    # print(di)\n",
    "\n",
    "    for l in range(len(di)):\n",
    "      if di.iloc[l].name in infoattr:\n",
    "        dictinfo[di.iloc[l].name] += 1\n",
    "        value = di.iloc[l][0]\n",
    "        finalval = []\n",
    "        flag = 0\n",
    "        for char in value:\n",
    "          if char == \"[\":\n",
    "            flag = 1\n",
    "          if char == \"]\":\n",
    "            flag = 0\n",
    "            continue\n",
    "          if flag:\n",
    "            continue\n",
    "          finalval.append(char)\n",
    "        finalval = ''.join(finalval)\n",
    "        # print(finalval)\n",
    "        # print(\"*******\")\n",
    "        df.loc[row, di.iloc[l].name] = finalval\n",
    "        \n",
    "        \n"
   ]
  },
  {
   "cell_type": "code",
   "execution_count": null,
   "metadata": {},
   "outputs": [],
   "source": [
    "dictinfo"
   ]
  },
  {
   "cell_type": "code",
   "execution_count": null,
   "metadata": {},
   "outputs": [],
   "source": [
    "from deep_translator import GoogleTranslator\n",
    "import re\n",
    "from indic_transliteration import sanscript\n",
    "from indic_transliteration.sanscript import transliterate\n",
    "from nltk.tokenize import word_tokenize\n",
    "\n",
    "GoogleTranslator(source=\"en\", target=\"hi\").translate(\"Yellow fever\")"
   ]
  },
  {
   "cell_type": "code",
   "execution_count": null,
   "metadata": {},
   "outputs": [],
   "source": [
    "newattrs = [\"Diagnosis\"]"
   ]
  },
  {
   "cell_type": "code",
   "execution_count": null,
   "metadata": {},
   "outputs": [],
   "source": [
    "for idx in range(14, 15):\n",
    "  for attribute in newattrs:\n",
    "    \n",
    "    value = de.loc[idx, attribute]\n",
    "\n",
    "    if pd.isna(value):\n",
    "      continue\n",
    "      \n",
    "    if value == \"\":\n",
    "      continue\n",
    "\n",
    "    #print(idx, attribute)\n",
    "      \n",
    "    translated_value = GoogleTranslator(source=\"en\", target=\"hi\").translate(value)\n",
    "    print(value)\n",
    "\n",
    "    reg = re.compile(r'[a-zA-Z]')\n",
    "    words = word_tokenize(translated_value)\n",
    "    for word in words:\n",
    "      if reg.match(word):\n",
    "        print(word)\n",
    "        trans_lit = transliterate(word, sanscript.ITRANS, sanscript.DEVANAGARI)\n",
    "        translated_value = translated_value.replace(word, trans_lit)\n",
    "    \n",
    "    \n",
    "    print(translated_value)\n",
    "\n",
    "    dh.loc[idx, attribute] = translated_value"
   ]
  },
  {
   "cell_type": "code",
   "execution_count": null,
   "metadata": {},
   "outputs": [],
   "source": []
  },
  {
   "cell_type": "code",
   "execution_count": null,
   "metadata": {},
   "outputs": [],
   "source": [
    "hfile.close\n",
    "editfile = open('./disease_cleaned_hindi.csv', 'wb')\n",
    "editfileog = open('./disease_cleaned.csv', 'wb')"
   ]
  },
  {
   "cell_type": "code",
   "execution_count": null,
   "metadata": {},
   "outputs": [],
   "source": [
    "dh.to_csv(editfile, index=False)\n",
    "#462"
   ]
  },
  {
   "cell_type": "code",
   "execution_count": null,
   "metadata": {},
   "outputs": [],
   "source": [
    "dh.loc[1128, \"Name\"]"
   ]
  },
  {
   "cell_type": "code",
   "execution_count": null,
   "metadata": {},
   "outputs": [],
   "source": [
    "efile.close\n",
    "de.to_csv(editfileog, index=False)"
   ]
  },
  {
   "cell_type": "code",
   "execution_count": null,
   "metadata": {},
   "outputs": [],
   "source": [
    "de.loc[[526]]"
   ]
  },
  {
   "cell_type": "code",
   "execution_count": null,
   "metadata": {},
   "outputs": [],
   "source": [
    "dh.loc[526, \"Medication\"]"
   ]
  },
  {
   "cell_type": "code",
   "execution_count": null,
   "metadata": {},
   "outputs": [],
   "source": [
    "# ff = \"  \".join(oldattrs)\n",
    "GoogleTranslator(source=\"en\", target=\"hi\").translate(\"Yellow Fever\")"
   ]
  },
  {
   "cell_type": "code",
   "execution_count": null,
   "metadata": {},
   "outputs": [],
   "source": [
    "dhe = {}\n",
    "for attr in oldattrs:\n",
    "  dhe[attr] = 0\n",
    "dhe"
   ]
  },
  {
   "cell_type": "code",
   "execution_count": null,
   "metadata": {},
   "outputs": [],
   "source": [
    "idxd = {}"
   ]
  },
  {
   "cell_type": "code",
   "execution_count": null,
   "metadata": {},
   "outputs": [],
   "source": [
    "for idx in range(0, 1183):\n",
    "  print(idx)\n",
    "  possible = []\n",
    "  for attribute in oldattrs:\n",
    "    english = 0\n",
    "    value = dh.loc[idx, attribute]\n",
    "\n",
    "    if pd.isna(value):\n",
    "      continue\n",
    "      \n",
    "    if value == \"\":\n",
    "      continue\n",
    "\n",
    "    # print(idx, attribute)\n",
    "      \n",
    "    #translated_value = GoogleTranslator(source=\"en\", target=\"hi\").translate(value)\n",
    "    #print(de.loc[526, \"Medication\"])\n",
    "\n",
    "    reg = re.compile(r'[a-zA-Z]')\n",
    "    words = word_tokenize(value)\n",
    "    for word in words:\n",
    "      if reg.match(word) and (english==0):\n",
    "        #print(word)\n",
    "        dhe[attribute]+=1\n",
    "        possible.append(attribute)\n",
    "        #english = 1\n",
    "        #break\n",
    "  \n",
    "  idxd[idx] = possible\n",
    "    \n",
    "    #print(translated_value)\n",
    "\n",
    "    # dh.loc[idx, attribute] = translated_value"
   ]
  },
  {
   "cell_type": "code",
   "execution_count": null,
   "metadata": {},
   "outputs": [],
   "source": [
    "dhe"
   ]
  },
  {
   "cell_type": "code",
   "execution_count": null,
   "metadata": {},
   "outputs": [],
   "source": [
    "idxd"
   ]
  }
 ],
 "metadata": {
  "interpreter": {
   "hash": "31f2aee4e71d21fbe5cf8b01ff0e069b9275f58929596ceb00d14d90e3e16cd6"
  },
  "kernelspec": {
   "display_name": "Python 3.8.10 64-bit",
   "language": "python",
   "name": "python3"
  },
  "language_info": {
   "codemirror_mode": {
    "name": "ipython",
    "version": 3
   },
   "file_extension": ".py",
   "mimetype": "text/x-python",
   "name": "python",
   "nbconvert_exporter": "python",
   "pygments_lexer": "ipython3",
   "version": "3.8.10"
  },
  "orig_nbformat": 4
 },
 "nbformat": 4,
 "nbformat_minor": 2
}
